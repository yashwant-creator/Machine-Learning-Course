{
 "cells": [
  {
   "cell_type": "code",
   "execution_count": 4,
   "id": "5cfe42ed-9a25-47a2-9302-29b7be2b87e5",
   "metadata": {},
   "outputs": [],
   "source": [
    "#importing the libraries\n",
    "import numpy as np\n",
    "import pandas as pd\n",
    "import matplotlib.pyplot as plt\n",
    "from sklearn.model_selection import train_test_split"
   ]
  },
  {
   "cell_type": "code",
   "execution_count": 5,
   "id": "5bc2463b-2c07-421d-8027-71cc4f16ed72",
   "metadata": {},
   "outputs": [],
   "source": [
    "#importing the dataset and identifying dependent and independent variables\n",
    "dataset = pd.read_csv('Salary_Data.csv')\n",
    "x = dataset.iloc[:,0].values\n",
    "y = dataset.iloc[:,1].values"
   ]
  },
  {
   "cell_type": "code",
   "execution_count": 7,
   "id": "caf2c008-db6d-4e19-88c8-024dd8e94f02",
   "metadata": {},
   "outputs": [
    {
     "name": "stdout",
     "output_type": "stream",
     "text": [
      "X-train set: [10.3  8.7  4.   1.1  2.2  5.1  2.9  4.1  4.   7.9  1.3  1.5  9.   2.\n",
      "  7.1  9.5  5.9 10.5  6.8  3.2  3.9  4.5  6.   3. ] \n",
      "\n",
      "X-test set: [9.6 4.9 8.2 5.3 3.2 3.7] \n",
      "\n",
      "y-train set: [122391. 109431.  56957.  39343.  39891.  66029.  56642.  57081.  55794.\n",
      " 101302.  46205.  37731. 105582.  43525.  98273. 116969.  81363. 121872.\n",
      "  91738.  54445.  63218.  61111.  93940.  60150.] \n",
      "\n",
      "X-test set: [112635.  67938. 113812.  83088.  64445.  57189.] \n",
      "\n"
     ]
    }
   ],
   "source": [
    "#spliting the dataset\n",
    "X_train,X_test,y_train,y_test = train_test_split(x,y,test_size= 0.2, random_state = 42)\n",
    "\n",
    "print(f\"X-train set: {X_train} \\n\")\n",
    "print(f\"X-test set: {X_test} \\n\")\n",
    "print(f\"y-train set: {y_train} \\n\")\n",
    "print(f\"X-test set: {y_test} \\n\")\n"
   ]
  },
  {
   "cell_type": "code",
   "execution_count": null,
   "id": "b20682c3-0640-47c8-b217-7d56beb20153",
   "metadata": {},
   "outputs": [],
   "source": [
    "#training the simple linear regression model on the training set\n",
    "from sklearn.linear_model import LinearRegression\n",
    "\n",
    "regressor = LinearRegression()\n",
    "regressor = fit(X_train)\n",
    "\n"
   ]
  }
 ],
 "metadata": {
  "kernelspec": {
   "display_name": "Python 3 (ipykernel)",
   "language": "python",
   "name": "python3"
  },
  "language_info": {
   "codemirror_mode": {
    "name": "ipython",
    "version": 3
   },
   "file_extension": ".py",
   "mimetype": "text/x-python",
   "name": "python",
   "nbconvert_exporter": "python",
   "pygments_lexer": "ipython3",
   "version": "3.11.4"
  }
 },
 "nbformat": 4,
 "nbformat_minor": 5
}
